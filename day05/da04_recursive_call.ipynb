{
 "cells": [
  {
   "cell_type": "markdown",
   "metadata": {},
   "source": [
    "### 재귀호출 Recursive Call\n",
    "<img src=\"https://dojang.io/pluginfile.php/13846/mod_page/content/3/031001.png\" width=\"700\">\n",
    "\n",
    "- 자기자신을 다시 호출하는 함수 호출 방법\n",
    "    - 장점 : 코드 간결화 \n",
    "    - 단점 : 디버깅이 어려움, 속도 저하"
   ]
  },
  {
   "cell_type": "code",
   "execution_count": null,
   "metadata": {},
   "outputs": [],
   "source": [
    "count = 0\n",
    "def openBox():\n",
    "    global count\n",
    "    print(f'--상자를 열어요--{count}')\n",
    "    count += 1\n",
    "    openBox() #재귀호출\n",
    "\n",
    "openBox() \n",
    "# 오류발생\n",
    "# RecursionError: maximum recursion depth exceeded while calling a Python object\n",
    "# 무한반복된다\n",
    "\n",
    "# return을 통해 박스를 닫아줘야함"
   ]
  },
  {
   "cell_type": "markdown",
   "metadata": {},
   "source": [
    "- 위 코드 실행시 count가 2969 정도되면 예외발생~!!\n",
    "    - RecursionError: maximum recursion depth exceeded while calling a Python object\n",
    "    - 파이썬에서는 무한 재귀호출을 방지\n"
   ]
  },
  {
   "cell_type": "code",
   "execution_count": 18,
   "metadata": {},
   "outputs": [
    {
     "name": "stdout",
     "output_type": "stream",
     "text": [
      "==상자를 열어요 5==\n",
      "==상자를 열어요 4==\n",
      "==상자를 열어요 3==\n",
      "==상자를 열어요 2==\n",
      "==상자를 열어요 1==\n",
      "반지를 넣고 반환\n",
      "--상자를 닫아요--\n",
      "--상자를 닫아요--\n",
      "--상자를 닫아요--\n",
      "--상자를 닫아요--\n"
     ]
    }
   ],
   "source": [
    "count = 5\n",
    "def openBox2():\n",
    "    global count\n",
    "    print(f'==상자를 열어요 {count}==')\n",
    "    count -= 1\n",
    "    \n",
    "    if count == 0: \n",
    "        print('반지를 넣고 반환')\n",
    "        return\n",
    "    \n",
    "    openBox2() # 재귀호출\n",
    "    print('--상자를 닫아요--') # 재귀호출 끝나면 출력됨\n",
    "    # return 숨어있음\n",
    "    \n",
    "openBox2()  #개발자가 호출을 해서 count4  "
   ]
  },
  {
   "cell_type": "markdown",
   "metadata": {},
   "source": [
    "- 재귀호출을 쓰지 않을 때"
   ]
  },
  {
   "cell_type": "code",
   "execution_count": null,
   "metadata": {},
   "outputs": [
    {
     "data": {
      "text/plain": [
       "55"
      ]
     },
     "execution_count": 19,
     "metadata": {},
     "output_type": "execute_result"
    }
   ],
   "source": [
    "sum = 0\n",
    "\n",
    "for i in range(10000, 0, -1):\n",
    "    sum += i\n",
    "\n",
    "sum"
   ]
  },
  {
   "cell_type": "markdown",
   "metadata": {},
   "source": [
    "- 재귀호출 사용할 때"
   ]
  },
  {
   "cell_type": "code",
   "execution_count": null,
   "metadata": {},
   "outputs": [
    {
     "data": {
      "text/plain": [
       "500500"
      ]
     },
     "execution_count": 24,
     "metadata": {},
     "output_type": "execute_result"
    }
   ],
   "source": [
    "sum = 0\n",
    "\n",
    "def S(n):\n",
    "    if n == 1: return 1\n",
    "    \n",
    "    return n + S(n -1) \n",
    "\n",
    "S(1000)\n",
    "# S(10000) --> 예외발생!  RecursionError , 2900번대까지 처리가능\n"
   ]
  },
  {
   "cell_type": "markdown",
   "metadata": {},
   "source": [
    "#### 팩토리얼 \n",
    "- S(n)과 차이는 연산자 +, *\n",
    "\n",
    "- 반복문으로 팩토리얼 구현(max:1588)"
   ]
  },
  {
   "cell_type": "code",
   "execution_count": null,
   "metadata": {},
   "outputs": [
    {
     "name": "stdout",
     "output_type": "stream",
     "text": [
      "10! = 3628800\n"
     ]
    }
   ],
   "source": [
    "num = 10\n",
    "value = 1\n",
    "for n in range(num, 0, -1):\n",
    "    value *= n\n",
    "\n",
    "print(f'{num}! = {value}')\n",
    "\n",
    "# 점화식 \n",
    "# S(n) = n + S(n -1)"
   ]
  },
  {
   "cell_type": "markdown",
   "metadata": {},
   "source": [
    "- 재귀호출"
   ]
  },
  {
   "cell_type": "code",
   "execution_count": 40,
   "metadata": {},
   "outputs": [
    {
     "name": "stdout",
     "output_type": "stream",
     "text": [
      "10! = 3628800\n"
     ]
    }
   ],
   "source": [
    "def factorial(n):\n",
    "    if n <= 1: return 1\n",
    "    \n",
    "    return n * factorial(n-1)\n",
    "\n",
    "print(f'{num}! = {factorial(num)}')\n",
    "\n",
    "# 팩토리얼\n",
    "# F(n) = n * F(n-1)  # F(1) = 1\n",
    "                    # F(0) = 1"
   ]
  }
 ],
 "metadata": {
  "kernelspec": {
   "display_name": "3.11.9",
   "language": "python",
   "name": "python3"
  },
  "language_info": {
   "codemirror_mode": {
    "name": "ipython",
    "version": 3
   },
   "file_extension": ".py",
   "mimetype": "text/x-python",
   "name": "python",
   "nbconvert_exporter": "python",
   "pygments_lexer": "ipython3",
   "version": "3.11.9"
  }
 },
 "nbformat": 4,
 "nbformat_minor": 2
}

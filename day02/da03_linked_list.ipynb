{
 "cells": [
  {
   "cell_type": "markdown",
   "metadata": {},
   "source": [
    "### 연결리스트(Linked Kist)\n",
    "\n",
    "- 노드(데이터, 링크 쌍)로 다음 데이터를 연결하는 동적 연결방식\n",
    "- 오버헤드가 없어서 매우 빨리 처리"
   ]
  },
  {
   "cell_type": "code",
   "execution_count": 4,
   "metadata": {},
   "outputs": [],
   "source": [
    "# 노드 클래스 \n",
    "class Node:\n",
    "    def __init__(self):\n",
    "        self.data = None\n",
    "        self.link = None\n",
    "    \n",
    "    def __str__(self):\n",
    "        return (f'{self.data} / {self.link}')"
   ]
  },
  {
   "cell_type": "code",
   "execution_count": 5,
   "metadata": {},
   "outputs": [
    {
     "data": {
      "text/plain": [
       "<__main__.Node at 0x2757f164350>"
      ]
     },
     "execution_count": 5,
     "metadata": {},
     "output_type": "execute_result"
    }
   ],
   "source": [
    "# 노드생성\n",
    "node1 = Node()\n",
    "node1.data = '다현'\n",
    "node1"
   ]
  },
  {
   "cell_type": "code",
   "execution_count": 8,
   "metadata": {},
   "outputs": [],
   "source": [
    "# 노드 2번\n",
    "node2 = Node()\n",
    "node2.data = '정연'\n",
    "node1.link = node2 # 첫번째 노드 링크에 두번째 노드를 넣어서 연결"
   ]
  },
  {
   "cell_type": "code",
   "execution_count": 9,
   "metadata": {},
   "outputs": [],
   "source": [
    "# 노트 3번 \n",
    "node3 = Node()\n",
    "node3.data = '쯔위'\n",
    "node2.link = node3\n",
    "\n",
    "node4 = Node()\n",
    "node4.data = '사나'\n",
    "node3.link = node4\n",
    "\n",
    "node5 = Node()\n",
    "node5.data = '지효'\n",
    "node4.link = node5\n",
    "#node5.link == None"
   ]
  },
  {
   "cell_type": "code",
   "execution_count": 11,
   "metadata": {},
   "outputs": [
    {
     "name": "stdout",
     "output_type": "stream",
     "text": [
      "다현 -> 정연 -> 쯔위 -> 사나 -> 지효\n"
     ]
    }
   ],
   "source": [
    "print(node1.data, end=' -> ') # 노드1 데이터\n",
    "print(node1.link.data, end=' -> ') #노트 2번 데이터\n",
    "print(node1.link.link.data, end=' -> ') # 노드 3번 데이터\n",
    "print(node1.link.link.link.data, end=' -> ') # 노드 4번 데이터\n",
    "print(node1.link.link.link.link.data, end='\\n') # 노드 5번 데이터\n"
   ]
  },
  {
   "cell_type": "code",
   "execution_count": 19,
   "metadata": {},
   "outputs": [
    {
     "name": "stdout",
     "output_type": "stream",
     "text": [
      "2703666594640\n",
      "2703666338256\n",
      "2703666834960\n",
      "2703666830800\n",
      "2703666828624\n"
     ]
    }
   ],
   "source": [
    "# 순차리스트처럼 연결되어 있지 않음\n",
    "# 링크를 통해 다음 노드를 연결 시켜 놓은 것\n",
    "print(id(node1))\n",
    "print(id(node2))\n",
    "print(id(node3))\n",
    "print(id(node4))\n",
    "print(id(node5))\n"
   ]
  },
  {
   "cell_type": "code",
   "execution_count": null,
   "metadata": {},
   "outputs": [
    {
     "name": "stdout",
     "output_type": "stream",
     "text": [
      "다현->정연->쯔위->사나->지효\n"
     ]
    }
   ],
   "source": [
    "current = node1     #node1을  current에 할당\n",
    "print(current.data, end='->')\n",
    "\n",
    "while current.link != None:     #현재 노드의 링크가 None( 더 이상 다음 링크가 없을때 까지 계속)\n",
    "    current = current.link  #node1.link에는 node2 존재, node2를 current에 할당\n",
    "\n",
    "    if current.link is None:    # current.link 즉, 다음 노드가 없다면 끝을 \\n\n",
    "        print(current.data, end='\\n')\n",
    "    else:\n",
    "        print(current.data, end='->')   \n"
   ]
  },
  {
   "cell_type": "markdown",
   "metadata": {},
   "source": [
    "- 연결 리스트 중간 데이터 삽입 \n",
    "    1. 새로운 노드를 생성한다.\n",
    "    2. 삽입할 위치의 이전 노드가 현재 가리키는 노드를, 새로 생성한 노드가 가리키도록 설정한다.\n",
    "    3. 이전 노드의 링크를 새로 생성한 노드로 변경한다"
   ]
  },
  {
   "cell_type": "code",
   "execution_count": 23,
   "metadata": {},
   "outputs": [],
   "source": [
    "# 중간에 노드 삽입 \n",
    "newNode = Node()\n",
    "newNode.data = '재남'\n",
    "\n",
    "newNode.link = node2.link   #node3이 newNode.link로 할당 \n",
    "node2.link = newNode"
   ]
  },
  {
   "cell_type": "code",
   "execution_count": null,
   "metadata": {},
   "outputs": [
    {
     "name": "stdout",
     "output_type": "stream",
     "text": [
      "다현->정연->재남->쯔위->사나->지효\n"
     ]
    }
   ],
   "source": [
    "# 중간에 노드 삽입으로인해 결과가 달라짐\n",
    "\n",
    "current = node1     \n",
    "print(current.data, end='->')\n",
    "\n",
    "while current.link != None:     \n",
    "    current = current.link  \n",
    "\n",
    "    if current.link is None:   \n",
    "        print(current.data, end='\\n')\n",
    "    else:\n",
    "        print(current.data, end='->')  "
   ]
  },
  {
   "cell_type": "markdown",
   "metadata": {},
   "source": [
    "- 노드 삭제\n",
    "    1. 지우려는 노드의 link를 왼쪽 노드의 link로 할당\n",
    "    2. 지우려는 노드를 삭제!"
   ]
  },
  {
   "cell_type": "code",
   "execution_count": 25,
   "metadata": {},
   "outputs": [],
   "source": [
    "# node4 지우기\n",
    "\n",
    "node3.link = node4.link  # node4\n",
    "del(node4)"
   ]
  },
  {
   "cell_type": "code",
   "execution_count": 26,
   "metadata": {},
   "outputs": [
    {
     "name": "stdout",
     "output_type": "stream",
     "text": [
      "다현->정연->재남->쯔위->지효\n"
     ]
    }
   ],
   "source": [
    "# 노드삭제 결과\n",
    "\n",
    "current = node1     \n",
    "print(current.data, end='->')\n",
    "\n",
    "while current.link != None:     \n",
    "    current = current.link  \n",
    "\n",
    "    if current.link is None:   \n",
    "        print(current.data, end='\\n')\n",
    "    else:\n",
    "        print(current.data, end='->')  "
   ]
  }
 ],
 "metadata": {
  "kernelspec": {
   "display_name": "3.11.9",
   "language": "python",
   "name": "python3"
  },
  "language_info": {
   "codemirror_mode": {
    "name": "ipython",
    "version": 3
   },
   "file_extension": ".py",
   "mimetype": "text/x-python",
   "name": "python",
   "nbconvert_exporter": "python",
   "pygments_lexer": "ipython3",
   "version": "3.11.9"
  }
 },
 "nbformat": 4,
 "nbformat_minor": 2
}

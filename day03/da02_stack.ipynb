{
 "cells": [
  {
   "cell_type": "markdown",
   "metadata": {},
   "source": [
    "### 스택(stack)\n",
    "\n",
    "<img src=\"https://upload.wikimedia.org/wikipedia/commons/thumb/2/29/Data_stack.svg/300px-Data_stack.svg.png\" width=\"300\">\n",
    "\n",
    "\n",
    "- 입구가 하나이기 때문에 먼저 들어간 것이 가장 나중에 나오는 구조(선입후출, 후입선출)\n",
    "- 한쪽 끝이 막힌 형태 (ex. 한쪽 끝이 막혀있는 종이컵 수거함)\n",
    "    - LIFO(Last In First Out) | FILO(First In Last Out)\n",
    "\n",
    "- 동작\n",
    "    - 종이컵 수거함에 종이컵을 넣는다 (PUSH) \n",
    "        - (먼저)a <- b <- c  : 마지막에 데이터를 추가\n",
    "    - 종이컵을 뺀다 (POP) \n",
    "        - a -> b -> c(먼저)  : 맨 마지막에 넣은 데이터를 추출 \n",
    "    - TOP : 맨 마지막 데이터 위치\n",
    "\n",
    "\n",
    "<img src=\"https://upload.wikimedia.org/wikipedia/commons/thumb/e/e4/Lifo_stack.svg/1024px-Lifo_stack.svg.png\" width=\"500\">"
   ]
  },
  {
   "cell_type": "markdown",
   "metadata": {},
   "source": [
    "- 기본스택 상태"
   ]
  },
  {
   "cell_type": "code",
   "execution_count": null,
   "metadata": {},
   "outputs": [],
   "source": [
    "stack = [None, None, None, None, None]\n",
    "top = -1\n"
   ]
  },
  {
   "cell_type": "markdown",
   "metadata": {},
   "source": [
    "- PUSH 처리"
   ]
  },
  {
   "cell_type": "code",
   "execution_count": null,
   "metadata": {},
   "outputs": [],
   "source": [
    "\n",
    "top += 1                    \n",
    "stack[top] = '커피잔'       # push 1번\n",
    "top += 1 \n",
    "stack[top] = '녹차잔'       # push 2번\n",
    "top += 1 \n",
    "stack[top] = '꿀물잔'       # push 3번"
   ]
  },
  {
   "cell_type": "markdown",
   "metadata": {},
   "source": [
    "- 스택상태 확인"
   ]
  },
  {
   "cell_type": "code",
   "execution_count": null,
   "metadata": {},
   "outputs": [
    {
     "data": {
      "text/plain": [
       "--------스택상태---------\n",
       "None\n",
       "None\n",
       "꿀물잔\n",
       "녹차잔\n",
       "커피잔\n"
      ]
     },
     "metadata": {},
     "output_type": "display_data"
    }
   ],
   "source": [
    "print('--------스택상태---------')\n",
    "for i in range(len(stack)-1, -1, -1) : # 내림차순을 반복\n",
    "    print(stack[i])"
   ]
  },
  {
   "cell_type": "markdown",
   "metadata": {},
   "source": [
    "- 현재 스택위치"
   ]
  },
  {
   "cell_type": "code",
   "execution_count": null,
   "metadata": {},
   "outputs": [
    {
     "data": {
      "text/plain": [
       "2\n"
      ]
     },
     "metadata": {},
     "output_type": "display_data"
    }
   ],
   "source": [
    "top"
   ]
  },
  {
   "cell_type": "markdown",
   "metadata": {},
   "source": [
    "- POP : 데이터 추출"
   ]
  },
  {
   "cell_type": "code",
   "execution_count": null,
   "metadata": {},
   "outputs": [
    {
     "data": {
      "text/plain": [
       "pop ->꿀물잔\n"
      ]
     },
     "metadata": {},
     "output_type": "display_data"
    }
   ],
   "source": [
    "data = stack[top]\n",
    "stack[top] = None\n",
    "\n",
    "top -= 1\n",
    "# print('pop ->', data)\n",
    "print(f'pop ->{data}')"
   ]
  },
  {
   "cell_type": "markdown",
   "metadata": {},
   "source": [
    "#### range(start, stop, step)의 기본 구조\n",
    "- start: 반복문이 시작할 값\n",
    "- stop: 이 값보다 작아질 때 반복이 멈춤\n",
    "- step: 반복할 때마다 증가/감소할 값"
   ]
  },
  {
   "cell_type": "code",
   "execution_count": null,
   "metadata": {},
   "outputs": [
    {
     "data": {
      "text/plain": [
       "--------스택상태---------\n",
       "None\n",
       "None\n",
       "None\n",
       "녹차잔\n",
       "커피잔\n"
      ]
     },
     "metadata": {},
     "output_type": "display_data"
    }
   ],
   "source": [
    "print('--------스택상태---------')\n",
    "for i in range(len(stack)-1, -1, -1) : # 내림차순을 반복\n",
    "    print(stack[i])"
   ]
  },
  {
   "cell_type": "markdown",
   "metadata": {},
   "source": [
    "#### 스택 응용분야\n",
    "- 함수 재귀호출\n",
    "- 브라우저 뒤로 가기 \n",
    "- 실행취소(Undo) & 다시 실행(Redo)\n",
    "- 수식계산 -> 괄호 검사(문법검사)\n",
    "- 탐색 중 깊이우선탐색(DFS)"
   ]
  }
 ],
 "metadata": {
  "language_info": {
   "name": "python"
  }
 },
 "nbformat": 4,
 "nbformat_minor": 2
}
